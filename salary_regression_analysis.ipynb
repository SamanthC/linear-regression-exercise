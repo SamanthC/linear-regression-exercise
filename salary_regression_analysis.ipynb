{
 "cells": [
  {
   "cell_type": "markdown",
   "metadata": {},
   "source": [
    "# Prédiction de Salaires - Régression Linéaire Multiple\n",
    "\n",
    "## Objectif\n",
    "Ce notebook présente une analyse complète de régression linéaire multiple pour prédire les salaires des employés.\n",
    "\n",
    "## Plan d'analyse\n",
    "1. **Exploration des données**\n",
    "2. **Préparation des données**\n",
    "3. **Modélisation**\n",
    "   - Baseline avec DummyRegressor\n",
    "   - Régression linéaire simple\n",
    "4. **Réugularisation avec GridSearchCV**\n",
    "   - Ridge Regression (L2)\n",
    "   - Lasso Regression (L1)\n",
    "6. **Résumé et Comparaison Finale**"
   ]
  },
  {
   "cell_type": "code",
   "execution_count": null,
   "metadata": {},
   "outputs": [],
   "source": [
    "# Import des bibliothèques nécessaires\n",
    "import numpy as np\n",
    "import pandas as pd\n",
    "import matplotlib.pyplot as plt\n",
    "import seaborn as sns\n",
    "from sklearn.model_selection import train_test_split, cross_val_score, GridSearchCV, learning_curve, validation_curve\n",
    "from sklearn.preprocessing import StandardScaler, MinMaxScaler, RobustScaler, OneHotEncoder\n",
    "from sklearn.compose import ColumnTransformer\n",
    "from sklearn.pipeline import Pipeline\n",
    "from sklearn.dummy import DummyRegressor\n",
    "from sklearn.linear_model import LinearRegression, Ridge, Lasso, ElasticNet\n",
    "from sklearn.metrics import mean_squared_error, mean_absolute_error, r2_score, make_scorer\n",
    "from sklearn.impute import SimpleImputer\n",
    "import warnings\n",
    "warnings.filterwarnings('ignore')\n",
    "\n",
    "# Configuration de l'affichage\n",
    "pd.set_option('display.max_columns', None)\n",
    "plt.style.use('seaborn-v0_8-darkgrid')\n",
    "%matplotlib inline"
   ]
  },
  {
   "cell_type": "markdown",
   "metadata": {},
   "source": [
    "## 1. Chargement et Exploration des Données"
   ]
  },
  {
   "cell_type": "code",
   "execution_count": 2,
   "metadata": {},
   "outputs": [],
   "source": [
    "# Chargement des données\n",
    "\n",
    "# TO DO : Charger le dataset employee_salaries.csv dans un DataFrame pandas et afficher les 5 premières lignes ainsi que la shape du dataset"
   ]
  },
  {
   "cell_type": "code",
   "execution_count": 4,
   "metadata": {},
   "outputs": [],
   "source": [
    "# Informations sur le dataset et statistiques descriptives\n",
    "\n",
    "# TO DO : Afficher les informations statistiques sur le dataset ainsi que le nombre de valeurs manquantes par colonne"
   ]
  },
  {
   "cell_type": "code",
   "execution_count": 5,
   "metadata": {},
   "outputs": [],
   "source": [
    "# Séparation des variables numériques et catégorielles\n",
    "\n",
    "# TO DO : créer deux listes qui séparent les variables numériques et catégorielles"
   ]
  },
  {
   "cell_type": "code",
   "execution_count": 8,
   "metadata": {},
   "outputs": [],
   "source": [
    "# Analyse des données\n",
    "\n",
    "# TO DO : Analyser les données avec des visualisations appropriées (histogrammes, boxplots, heatmap de corrélation, etc.) \n",
    "# pour comprendre la distribution des variables et leurs relations avec la variable cible 'salaire'"
   ]
  },
  {
   "cell_type": "markdown",
   "metadata": {},
   "source": [
    "## 2. Préparation des Données\n",
    "\n",
    "### 2.1 Séparation des features et de la cible"
   ]
  },
  {
   "cell_type": "code",
   "execution_count": 9,
   "metadata": {},
   "outputs": [],
   "source": [
    "# Séparation des features (X) et de la cible (y)\n",
    "\n",
    "# Séparer les données en dataset de features (X) et dataset de cible (y)"
   ]
  },
  {
   "cell_type": "code",
   "execution_count": 10,
   "metadata": {},
   "outputs": [],
   "source": [
    "# Division en ensemble d'entraînement et de test (80/20)\n",
    "\n",
    "# Spliter les données en ensembles d'entraînement et de test (80/20) et utiliser l'arribut random_state=42 "
   ]
  },
  {
   "cell_type": "markdown",
   "metadata": {},
   "source": [
    "### 2.2 Preprocessing Pipeline\n",
    "\n",
    "Nous allons créer un pipeline de preprocessing qui:\n",
    "1. Impute les valeurs manquantes pour les variables numériques\n",
    "2. Applique le scaling sur les variables numériques\n",
    "3. Applique le one-hot encoding sur les variables catégorielles"
   ]
  },
  {
   "cell_type": "code",
   "execution_count": 18,
   "metadata": {},
   "outputs": [],
   "source": [
    "# TO DO : implémenter des stratégie de prétraitement des données numériques et catégorielles en utilisant ColumnTransformer et Pipeline"
   ]
  },
  {
   "cell_type": "markdown",
   "metadata": {},
   "source": [
    "## 3. Modélisation\n",
    "\n",
    "### 3.1 Modèle de Base - DummyRegressor"
   ]
  },
  {
   "cell_type": "code",
   "execution_count": 11,
   "metadata": {},
   "outputs": [],
   "source": [
    "# TO DO : Entrainer un modèle DummyRegressor, qui servira de baseline, et évaluer ses performances sur l'ensemble de test"
   ]
  },
  {
   "cell_type": "markdown",
   "metadata": {},
   "source": [
    "### 3.2 Régression Linéaire Simple"
   ]
  },
  {
   "cell_type": "code",
   "execution_count": null,
   "metadata": {},
   "outputs": [],
   "source": [
    "# TO DO : Entrainer un modèle de régression linaire"
   ]
  },
  {
   "cell_type": "code",
   "execution_count": 12,
   "metadata": {},
   "outputs": [],
   "source": [
    "# TO DO : afficher les valeurs prédites par le modèle linéaire vs les valeurs réelles du dataset de test"
   ]
  },
  {
   "cell_type": "code",
   "execution_count": 16,
   "metadata": {},
   "outputs": [],
   "source": [
    "# TO DO : afficher les valeurs des coefficients du modèle linéaire"
   ]
  },
  {
   "cell_type": "markdown",
   "metadata": {},
   "source": [
    "## 4. Régularisation avec GridSearchCV"
   ]
  },
  {
   "cell_type": "code",
   "execution_count": null,
   "metadata": {},
   "outputs": [],
   "source": [
    "# TO DO : Entrainer un modèle Ridge en testant les hyerparamètres suivants : \n",
    "#    - 'alpha': np.logspace(-3, 2, 20),\n",
    "#    - 'selection': ['cyclic', 'random']\n",
    "# Afficher les résultats de la cross validation et les performances sur l'ensemble de test "
   ]
  },
  {
   "cell_type": "code",
   "execution_count": 17,
   "metadata": {},
   "outputs": [],
   "source": [
    "# TO DO : Entrainer un modèle Ridge en testant les hyerparamètres suivants : \n",
    "#    - 'alpha': np.logspace(-3, 3, 20),\n",
    "#    - 'solver': ['auto', 'svd', 'cholesky', 'lsqr']\n",
    "# Afficher les résultats de la cross validation et les performances sur l'ensemble de test"
   ]
  },
  {
   "cell_type": "markdown",
   "metadata": {},
   "source": [
    "## 5. Résumé et Comparaison Finale"
   ]
  },
  {
   "cell_type": "code",
   "execution_count": 19,
   "metadata": {},
   "outputs": [],
   "source": [
    "# TO : Afficher pour chaque modèle (dummy, linéaire, ridge, lasso) les performances sur l'ensemble d'entrainement et de test et conclure\n",
    "# sur le choix du modèle et sa capacité de généralisation"
   ]
  }
 ],
 "metadata": {
  "kernelspec": {
   "display_name": "template",
   "language": "python",
   "name": "python3"
  },
  "language_info": {
   "codemirror_mode": {
    "name": "ipython",
    "version": 3
   },
   "file_extension": ".py",
   "mimetype": "text/x-python",
   "name": "python",
   "nbconvert_exporter": "python",
   "pygments_lexer": "ipython3",
   "version": "3.11.13"
  }
 },
 "nbformat": 4,
 "nbformat_minor": 4
}
