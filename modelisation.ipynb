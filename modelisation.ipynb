{
  "cells": [
    {
      "cell_type": "markdown",
      "metadata": {},
      "source": [
        "# Modélisation - Prédiction de Salaires\n",
        "\n",
        "Régression linéaire pour prédire les salaires des employés.\n"
      ]
    },
    {
      "cell_type": "markdown",
      "metadata": {},
      "source": [
        "## 1. Préparation des Données\n"
      ]
    },
    {
      "cell_type": "code",
      "execution_count": null,
      "metadata": {},
      "outputs": [],
      "source": [
        "import pandas as pd\n",
        "import numpy as np\n",
        "from sklearn.model_selection import train_test_split, GridSearchCV\n",
        "from sklearn.preprocessing import StandardScaler\n",
        "from sklearn.dummy import DummyRegressor\n",
        "from sklearn.linear_model import LinearRegression, Ridge, Lasso\n",
        "from sklearn.metrics import mean_squared_error, r2_score, mean_absolute_error\n",
        "import warnings\n",
        "warnings.filterwarnings('ignore')\n",
        "\n",
        "# Chargement\n",
        "df = pd.read_csv('data/employee_salaries.csv')\n",
        "print(f\"Dataset : {df.shape}\")\n",
        "print(f\"Valeurs manquantes : {df.isnull().sum().sum()}\")\n",
        "df.head()\n"
      ]
    },
    {
      "cell_type": "code",
      "execution_count": null,
      "metadata": {},
      "outputs": [],
      "source": [
        "# Traitement des valeurs manquantes\n",
        "df['nb_projets'].fillna(df['nb_projets'].median(), inplace=True)\n",
        "df['evaluation_performance'].fillna(df['evaluation_performance'].median(), inplace=True)\n",
        "\n",
        "# Encodage des variables catégorielles\n",
        "df_encoded = pd.get_dummies(df, columns=['niveau_education', 'departement', 'poste', 'ville', 'secteur', 'taille_entreprise'], drop_first=True)\n",
        "\n",
        "print(f\"Dataset encodé : {df_encoded.shape}\")\n",
        "df_encoded.head()\n"
      ]
    },
    {
      "cell_type": "code",
      "execution_count": null,
      "metadata": {},
      "outputs": [],
      "source": [
        "# Séparation X et y\n",
        "X = df_encoded.drop('salaire_annuel', axis=1)\n",
        "y = df_encoded['salaire_annuel']\n",
        "\n",
        "# Split train/test\n",
        "X_train, X_test, y_train, y_test = train_test_split(X, y, test_size=0.2, random_state=42)\n",
        "\n",
        "# Standardisation\n",
        "scaler = StandardScaler()\n",
        "X_train_scaled = scaler.fit_transform(X_train)\n",
        "X_test_scaled = scaler.transform(X_test)\n",
        "\n",
        "print(f\"Train : {X_train.shape}\")\n",
        "print(f\"Test : {X_test.shape}\")\n"
      ]
    },
    {
      "cell_type": "markdown",
      "metadata": {},
      "source": [
        "## 2. Baseline - DummyRegressor\n"
      ]
    },
    {
      "cell_type": "code",
      "execution_count": null,
      "metadata": {},
      "outputs": [],
      "source": [
        "# Modèle baseline (prédit toujours la moyenne)\n",
        "dummy = DummyRegressor(strategy='mean')\n",
        "dummy.fit(X_train_scaled, y_train)\n",
        "y_pred_dummy = dummy.predict(X_test_scaled)\n",
        "\n",
        "# Métriques\n",
        "rmse_dummy = np.sqrt(mean_squared_error(y_test, y_pred_dummy))\n",
        "mae_dummy = mean_absolute_error(y_test, y_pred_dummy)\n",
        "r2_dummy = r2_score(y_test, y_pred_dummy)\n",
        "\n",
        "print(\"=\" * 50)\n",
        "print(\"BASELINE - DummyRegressor\")\n",
        "print(\"=\" * 50)\n",
        "print(f\"RMSE : {rmse_dummy:,.2f} €\")\n",
        "print(f\"MAE  : {mae_dummy:,.2f} €\")\n",
        "print(f\"R²   : {r2_dummy:.4f}\")\n"
      ]
    },
    {
      "cell_type": "markdown",
      "metadata": {},
      "source": [
        "## 3. Régression Linéaire Simple\n"
      ]
    },
    {
      "cell_type": "code",
      "execution_count": null,
      "metadata": {},
      "outputs": [],
      "source": [
        "# Régression linéaire\n",
        "lr = LinearRegression()\n",
        "lr.fit(X_train_scaled, y_train)\n",
        "y_pred_lr = lr.predict(X_test_scaled)\n",
        "\n",
        "# Métriques\n",
        "rmse_lr = np.sqrt(mean_squared_error(y_test, y_pred_lr))\n",
        "mae_lr = mean_absolute_error(y_test, y_pred_lr)\n",
        "r2_lr = r2_score(y_test, y_pred_lr)\n",
        "\n",
        "print(\"=\" * 50)\n",
        "print(\"RÉGRESSION LINÉAIRE\")\n",
        "print(\"=\" * 50)\n",
        "print(f\"RMSE : {rmse_lr:,.2f} €\")\n",
        "print(f\"MAE  : {mae_lr:,.2f} €\")\n",
        "print(f\"R²   : {r2_lr:.4f}\")\n"
      ]
    },
    {
      "cell_type": "markdown",
      "metadata": {},
      "source": [
        "## 4. Ridge Regression (L2)\n"
      ]
    },
    {
      "cell_type": "code",
      "execution_count": null,
      "metadata": {},
      "outputs": [],
      "source": [
        "# GridSearchCV pour Ridge\n",
        "param_grid_ridge = {'alpha': [0.01, 0.1, 1, 10, 100, 1000]}\n",
        "ridge = Ridge()\n",
        "grid_ridge = GridSearchCV(ridge, param_grid_ridge, cv=5, scoring='neg_mean_squared_error')\n",
        "grid_ridge.fit(X_train_scaled, y_train)\n",
        "\n",
        "# Meilleur modèle\n",
        "best_ridge = grid_ridge.best_estimator_\n",
        "y_pred_ridge = best_ridge.predict(X_test_scaled)\n",
        "\n",
        "# Métriques\n",
        "rmse_ridge = np.sqrt(mean_squared_error(y_test, y_pred_ridge))\n",
        "mae_ridge = mean_absolute_error(y_test, y_pred_ridge)\n",
        "r2_ridge = r2_score(y_test, y_pred_ridge)\n",
        "\n",
        "print(\"=\" * 50)\n",
        "print(\"RIDGE REGRESSION (L2)\")\n",
        "print(\"=\" * 50)\n",
        "print(f\"Meilleur alpha : {grid_ridge.best_params_['alpha']}\")\n",
        "print(f\"RMSE : {rmse_ridge:,.2f} €\")\n",
        "print(f\"MAE  : {mae_ridge:,.2f} €\")\n",
        "print(f\"R²   : {r2_ridge:.4f}\")\n"
      ]
    },
    {
      "cell_type": "markdown",
      "metadata": {},
      "source": [
        "## 5. Lasso Regression (L1)\n"
      ]
    },
    {
      "cell_type": "code",
      "execution_count": null,
      "metadata": {},
      "outputs": [],
      "source": [
        "# GridSearchCV pour Lasso\n",
        "param_grid_lasso = {'alpha': [0.01, 0.1, 1, 10, 100, 1000]}\n",
        "lasso = Lasso(max_iter=10000)\n",
        "grid_lasso = GridSearchCV(lasso, param_grid_lasso, cv=5, scoring='neg_mean_squared_error')\n",
        "grid_lasso.fit(X_train_scaled, y_train)\n",
        "\n",
        "# Meilleur modèle\n",
        "best_lasso = grid_lasso.best_estimator_\n",
        "y_pred_lasso = best_lasso.predict(X_test_scaled)\n",
        "\n",
        "# Métriques\n",
        "rmse_lasso = np.sqrt(mean_squared_error(y_test, y_pred_lasso))\n",
        "mae_lasso = mean_absolute_error(y_test, y_pred_lasso)\n",
        "r2_lasso = r2_score(y_test, y_pred_lasso)\n",
        "\n",
        "print(\"=\" * 50)\n",
        "print(\"LASSO REGRESSION (L1)\")\n",
        "print(\"=\" * 50)\n",
        "print(f\"Meilleur alpha : {grid_lasso.best_params_['alpha']}\")\n",
        "print(f\"RMSE : {rmse_lasso:,.2f} €\")\n",
        "print(f\"MAE  : {mae_lasso:,.2f} €\")\n",
        "print(f\"R²   : {r2_lasso:.4f}\")\n",
        "\n",
        "# Nombre de features sélectionnées\n",
        "n_features_selected = np.sum(best_lasso.coef_ != 0)\n",
        "print(f\"\\nFeatures sélectionnées : {n_features_selected}/{len(X.columns)}\")\n"
      ]
    },
    {
      "cell_type": "markdown",
      "metadata": {},
      "source": [
        "## 6. Comparaison Finale\n"
      ]
    },
    {
      "cell_type": "code",
      "execution_count": null,
      "metadata": {},
      "outputs": [],
      "source": [
        "# Tableau comparatif\n",
        "resultats = pd.DataFrame({\n",
        "    'Modèle': ['Baseline (Dummy)', 'Régression Linéaire', 'Ridge (L2)', 'Lasso (L1)'],\n",
        "    'RMSE': [rmse_dummy, rmse_lr, rmse_ridge, rmse_lasso],\n",
        "    'MAE': [mae_dummy, mae_lr, mae_ridge, mae_lasso],\n",
        "    'R²': [r2_dummy, r2_lr, r2_ridge, r2_lasso]\n",
        "})\n",
        "\n",
        "print(\"=\" * 80)\n",
        "print(\"COMPARAISON DES MODÈLES\")\n",
        "print(\"=\" * 80)\n",
        "print(resultats.to_string(index=False))\n",
        "print(\"=\" * 80)\n",
        "\n",
        "# Meilleur modèle\n",
        "best_model_idx = resultats['R²'].idxmax()\n",
        "best_model_name = resultats.loc[best_model_idx, 'Modèle']\n",
        "best_r2 = resultats.loc[best_model_idx, 'R²']\n",
        "print(f\"\\n🏆 Meilleur modèle : {best_model_name} (R² = {best_r2:.4f})\")\n"
      ]
    },
    {
      "cell_type": "code",
      "execution_count": null,
      "metadata": {},
      "outputs": [],
      "source": [
        "# Visualisation des prédictions\n",
        "import matplotlib.pyplot as plt\n",
        "\n",
        "fig, axes = plt.subplots(1, 3, figsize=(18, 5))\n",
        "\n",
        "# Régression linéaire\n",
        "axes[0].scatter(y_test, y_pred_lr, alpha=0.5)\n",
        "axes[0].plot([y_test.min(), y_test.max()], [y_test.min(), y_test.max()], 'r--', lw=2)\n",
        "axes[0].set_xlabel('Valeurs Réelles')\n",
        "axes[0].set_ylabel('Prédictions')\n",
        "axes[0].set_title(f'Régression Linéaire (R²={r2_lr:.4f})')\n",
        "\n",
        "# Ridge\n",
        "axes[1].scatter(y_test, y_pred_ridge, alpha=0.5)\n",
        "axes[1].plot([y_test.min(), y_test.max()], [y_test.min(), y_test.max()], 'r--', lw=2)\n",
        "axes[1].set_xlabel('Valeurs Réelles')\n",
        "axes[1].set_ylabel('Prédictions')\n",
        "axes[1].set_title(f'Ridge (R²={r2_ridge:.4f})')\n",
        "\n",
        "# Lasso\n",
        "axes[2].scatter(y_test, y_pred_lasso, alpha=0.5)\n",
        "axes[2].plot([y_test.min(), y_test.max()], [y_test.min(), y_test.max()], 'r--', lw=2)\n",
        "axes[2].set_xlabel('Valeurs Réelles')\n",
        "axes[2].set_ylabel('Prédictions')\n",
        "axes[2].set_title(f'Lasso (R²={r2_lasso:.4f})')\n",
        "\n",
        "plt.tight_layout()\n",
        "plt.show()\n"
      ]
    }
  ],
  "metadata": {
    "language_info": {
      "name": "python"
    }
  },
  "nbformat": 4,
  "nbformat_minor": 2
}
