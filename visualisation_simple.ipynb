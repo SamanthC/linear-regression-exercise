{
  "cells": [
    {
      "cell_type": "markdown",
      "metadata": {},
      "source": [
        "# 📊 Visualisation Simple des Données - Salaires\n",
        "\n",
        "Exploration visuelle simple du dataset des salaires d'employés.\n"
      ]
    },
    {
      "cell_type": "markdown",
      "metadata": {},
      "source": [
        "## 1. Import et Chargement des Données\n"
      ]
    },
    {
      "cell_type": "code",
      "execution_count": null,
      "metadata": {},
      "outputs": [],
      "source": [
        "import pandas as pd\n",
        "import matplotlib.pyplot as plt\n",
        "import seaborn as sns\n",
        "import numpy as np\n",
        "\n",
        "# Configuration\n",
        "sns.set_style('whitegrid')\n",
        "plt.rcParams['figure.figsize'] = (10, 6)\n",
        "\n",
        "# Chargement\n",
        "df = pd.read_csv('data/employee_salaries.csv')\n",
        "print(f\"Dataset : {df.shape[0]} lignes × {df.shape[1]} colonnes\")\n",
        "df.head()\n"
      ]
    },
    {
      "cell_type": "markdown",
      "metadata": {},
      "source": [
        "## 2. Distribution du Salaire\n"
      ]
    },
    {
      "cell_type": "code",
      "execution_count": null,
      "metadata": {},
      "outputs": [],
      "source": [
        "plt.figure(figsize=(10, 6))\n",
        "plt.hist(df['salaire_annuel'], bins=50, color='steelblue', edgecolor='black')\n",
        "plt.axvline(df['salaire_annuel'].mean(), color='red', linestyle='--', label='Moyenne')\n",
        "plt.axvline(df['salaire_annuel'].median(), color='green', linestyle='--', label='Médiane')\n",
        "plt.xlabel('Salaire Annuel (€)')\n",
        "plt.ylabel('Fréquence')\n",
        "plt.title('Distribution du Salaire Annuel')\n",
        "plt.legend()\n",
        "plt.show()\n"
      ]
    },
    {
      "cell_type": "markdown",
      "metadata": {},
      "source": [
        "## 3. Corrélations avec le Salaire\n"
      ]
    },
    {
      "cell_type": "code",
      "execution_count": null,
      "metadata": {},
      "outputs": [],
      "source": [
        "# Matrice de corrélation\n",
        "colonnes_num = df.select_dtypes(include=[np.number]).columns\n",
        "correlation = df[colonnes_num].corr()\n",
        "\n",
        "plt.figure(figsize=(10, 8))\n",
        "sns.heatmap(correlation, annot=True, fmt='.2f', cmap='coolwarm', center=0)\n",
        "plt.title('Matrice de Corrélation')\n",
        "plt.tight_layout()\n",
        "plt.show()\n",
        "\n",
        "# Top corrélations\n",
        "print(\"\\nTop 5 corrélations avec le salaire:\")\n",
        "print(correlation['salaire_annuel'].sort_values(ascending=False)[1:6])\n"
      ]
    },
    {
      "cell_type": "markdown",
      "metadata": {},
      "source": [
        "## 4. Salaire vs Expérience\n"
      ]
    },
    {
      "cell_type": "code",
      "execution_count": null,
      "metadata": {},
      "outputs": [],
      "source": [
        "plt.figure(figsize=(10, 6))\n",
        "plt.scatter(df['experience'], df['salaire_annuel'], alpha=0.5)\n",
        "plt.xlabel('Expérience (années)')\n",
        "plt.ylabel('Salaire Annuel (€)')\n",
        "plt.title('Salaire vs Expérience')\n",
        "plt.show()\n"
      ]
    },
    {
      "cell_type": "markdown",
      "metadata": {},
      "source": [
        "## 5. Salaire par Poste\n"
      ]
    },
    {
      "cell_type": "code",
      "execution_count": null,
      "metadata": {},
      "outputs": [],
      "source": [
        "salaire_poste = df.groupby('poste')['salaire_annuel'].mean().sort_values()\n",
        "\n",
        "plt.figure(figsize=(10, 6))\n",
        "salaire_poste.plot(kind='barh', color='steelblue')\n",
        "plt.xlabel('Salaire Moyen (€)')\n",
        "plt.ylabel('Poste')\n",
        "plt.title('Salaire Moyen par Poste')\n",
        "plt.tight_layout()\n",
        "plt.show()\n"
      ]
    },
    {
      "cell_type": "markdown",
      "metadata": {},
      "source": [
        "## 6. Salaire par Niveau d'Éducation\n"
      ]
    },
    {
      "cell_type": "code",
      "execution_count": null,
      "metadata": {},
      "outputs": [],
      "source": [
        "salaire_educ = df.groupby('niveau_education')['salaire_annuel'].mean().sort_values()\n",
        "\n",
        "plt.figure(figsize=(10, 6))\n",
        "salaire_educ.plot(kind='barh', color='coral')\n",
        "plt.xlabel('Salaire Moyen (€)')\n",
        "plt.ylabel(\"Niveau d'Éducation\")\n",
        "plt.title(\"Salaire Moyen par Niveau d'Éducation\")\n",
        "plt.tight_layout()\n",
        "plt.show()\n"
      ]
    },
    {
      "cell_type": "markdown",
      "metadata": {},
      "source": [
        "## 7. Salaire par Département\n"
      ]
    },
    {
      "cell_type": "code",
      "execution_count": null,
      "metadata": {},
      "outputs": [],
      "source": [
        "salaire_dept = df.groupby('departement')['salaire_annuel'].mean().sort_values()\n",
        "\n",
        "plt.figure(figsize=(10, 6))\n",
        "salaire_dept.plot(kind='barh', color='lightgreen')\n",
        "plt.xlabel('Salaire Moyen (€)')\n",
        "plt.ylabel('Département')\n",
        "plt.title('Salaire Moyen par Département')\n",
        "plt.tight_layout()\n",
        "plt.show()\n"
      ]
    },
    {
      "cell_type": "markdown",
      "metadata": {},
      "source": [
        "## 8. Boxplot du Salaire par Ville\n"
      ]
    },
    {
      "cell_type": "code",
      "execution_count": null,
      "metadata": {},
      "outputs": [],
      "source": [
        "plt.figure(figsize=(12, 6))\n",
        "df.boxplot(column='salaire_annuel', by='ville', figsize=(12, 6))\n",
        "plt.title('Distribution du Salaire par Ville')\n",
        "plt.suptitle('')  # Enlever le titre par défaut\n",
        "plt.xlabel('Ville')\n",
        "plt.ylabel('Salaire Annuel (€)')\n",
        "plt.xticks(rotation=45)\n",
        "plt.tight_layout()\n",
        "plt.show()\n"
      ]
    }
  ],
  "metadata": {
    "language_info": {
      "name": "python"
    }
  },
  "nbformat": 4,
  "nbformat_minor": 2
}
